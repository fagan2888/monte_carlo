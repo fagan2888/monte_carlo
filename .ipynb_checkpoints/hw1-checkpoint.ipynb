{
 "cells": [
  {
   "cell_type": "markdown",
   "metadata": {},
   "source": [
    "# Homework 1\n",
    "The distribution that we are trying to sample from does not have a CDF that is easily invertible\n",
    "$$\n",
    "\\begin{aligned}\n",
    "f(x)&=6x(1-x)\\\\\n",
    "CDF_f(x)&=3x^2-2x^3\\\\\n",
    "\\end{aligned}\n",
    "$$\n",
    "We can use a proposal distribution that is easier to sample from\n",
    "$$\n",
    "\\begin{aligned}\n",
    "g(x)&=\\frac{\\pi}{2}\\sin\\pi x\\\\\n",
    "CDF_g(x)&=\\frac{-1}{2}(\\cos\\pi x-1)\\\\\n",
    "\\end{aligned}\n",
    "$$\n",
    "We can sample from $g$ using the inverse CDF\n",
    "$$\n",
    "\\begin{aligned}\n",
    "u&\\sim\\text{Uniform}(0,1)\\\\\n",
    "x&=\\frac{1}{\\pi}\\cos^{-1}(1-2u)\n",
    "\\end{aligned}\n",
    "$$"
   ]
  },
  {
   "cell_type": "code",
   "execution_count": 116,
   "metadata": {
    "collapsed": false
   },
   "outputs": [],
   "source": [
    "import numpy as np\n",
    "import random as rn\n",
    "import matplotlib.pyplot as plt\n",
    "%matplotlib inline\n",
    "\n",
    "seed = 0\n",
    "rn.seed(seed)\n",
    "\n",
    "def f(x):\n",
    "    return 6 * x * (1-x)\n",
    "\n",
    "def CDF_f(x):\n",
    "    return 3 * x ** 2 - 2 * x ** 3\n",
    "\n",
    "def g(x):\n",
    "    return np.pi / 2 * np.sin(np.pi * x)\n",
    "\n",
    "def CDF_g(x):\n",
    "    return -(np.cos(np.pi * x) - 1)/2 \n",
    "\n",
    "def invCDF_g(u):\n",
    "    return np.arccos(1 - 2 * u) / np.pi\n",
    "\n",
    "def sample_g():\n",
    "    return invCDF_g(rn.random())\n",
    "\n",
    "def hist_with_error(x, n_bins=35, theoretical=f):\n",
    "    y, bin_edges, patches = plt.hist(x, bins=n_bins)\n",
    "    n, c = np.histogram(x, bins=n_bins)\n",
    "    bin_centers = 0.5*(bin_edges[1:] + bin_edges[:-1])\n",
    "    \n",
    "    L = len(x)\n",
    "    p = n / L\n",
    "    err = p * (1 - p) * np.sqrt(L)\n",
    "    \n",
    "    plt.errorbar(\n",
    "        bin_centers,\n",
    "        y,\n",
    "        yerr = err,\n",
    "        fmt = '.'\n",
    "    )\n",
    "    \n",
    "    th = theoretical(bin_centers) * L / n_bins\n",
    "    plt.plot(bin_centers, th, linewidth=5, alpha=0.5)\n",
    "    print('Bins out of range: {}'.format(sum((th > y + err) | (th < y - err))/n_bins))"
   ]
  },
  {
   "cell_type": "markdown",
   "metadata": {},
   "source": [
    "# First we try to find M \n",
    "Since both $f$ and $g$ have support on $[0,1]$, and have negative curvature. We can find their derivatives at $x=0$ and $x=1$ and make sure that $f'(0)\\leq Mg'(0)$ and $f'(1)\\geq Mg'(1)$. Since they're both symmetric around 0.5, we can just check this condition on one of the end points.\n",
    "\n",
    "$$\n",
    "\\begin{aligned}\n",
    "\\frac{d}{dx}f(x)\\bigg|_0&=6\\\\\n",
    "\\frac{d}{dx}g(x)\\bigg|_0&=\\frac{\\pi^2}{2}\\\\\n",
    "\\Rightarrow M &= f'(0)/g'(0) = \\frac{12}{\\pi^2}\n",
    "\\end{aligned}\n",
    "$$\n",
    "\n",
    "To make sure that that this is good, we plot $f(x)$ and $Mg(x)$"
   ]
  },
  {
   "cell_type": "code",
   "execution_count": 124,
   "metadata": {
    "collapsed": false
   },
   "outputs": [
    {
     "data": {
      "text/plain": [
       "<matplotlib.legend.Legend at 0x2143e411e48>"
      ]
     },
     "execution_count": 124,
     "metadata": {},
     "output_type": "execute_result"
    },
    {
     "data": {
      "image/png": "[encoded data removed]",
      "text/plain": [
       "<matplotlib.figure.Figure at 0x2143e3d95f8>"
      ]
     },
     "metadata": {},
     "output_type": "display_data"
    }
   ],
   "source": [
    "M = 12 / np.pi ** 2\n",
    "\n",
    "x = np.linspace(0,1,100)\n",
    "fx = f(x)\n",
    "Mgx = M * g(x)\n",
    "\n",
    "plt.plot(x, fx)\n",
    "plt.plot(x, Mgx)\n",
    "plt.legend(['f(x)', 'Mg(x)'])"
   ]
  },
  {
   "cell_type": "markdown",
   "metadata": {},
   "source": [
    "# Now we draw samples"
   ]
  },
  {
   "cell_type": "code",
   "execution_count": 125,
   "metadata": {
    "collapsed": true
   },
   "outputs": [],
   "source": [
    "def sample_f():\n",
    "    y = sample_g()\n",
    "    u = rn.random()\n",
    "    if (u < f(y) / (M * g(y))):\n",
    "        return y\n",
    "    else:\n",
    "        sample_f()"
   ]
  },
  {
   "cell_type": "code",
   "execution_count": 127,
   "metadata": {
    "collapsed": false
   },
   "outputs": [],
   "source": [
    "s = np.array([sample_f() for _ in range(0,10000)])"
   ]
  },
  {
   "cell_type": "code",
   "execution_count": null,
   "metadata": {
    "collapsed": true
   },
   "outputs": [],
   "source": []
  }
 ],
 "metadata": {
  "anaconda-cloud": {},
  "kernelspec": {
   "display_name": "Python [conda root]",
   "language": "python",
   "name": "conda-root-py"
  },
  "language_info": {
   "codemirror_mode": {
    "name": "ipython",
    "version": 3
   },
   "file_extension": ".py",
   "mimetype": "text/x-python",
   "name": "python",
   "nbconvert_exporter": "python",
   "pygments_lexer": "ipython3",
   "version": "3.5.2"
  }
 },
 "nbformat": 4,
 "nbformat_minor": 1
}
